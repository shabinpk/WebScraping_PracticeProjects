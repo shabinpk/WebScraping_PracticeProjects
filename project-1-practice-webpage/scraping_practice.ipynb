{
 "cells": [
  {
   "cell_type": "code",
   "execution_count": 1,
   "id": "1add1301",
   "metadata": {},
   "outputs": [
    {
     "name": "stdout",
     "output_type": "stream",
     "text": [
      "Requirement already satisfied: beautifulsoup4 in c:\\users\\shabi\\anaconda3\\lib\\site-packages (4.12.3)\n",
      "Requirement already satisfied: soupsieve>1.2 in c:\\users\\shabi\\anaconda3\\lib\\site-packages (from beautifulsoup4) (2.5)\n",
      "Note: you may need to restart the kernel to use updated packages.\n"
     ]
    }
   ],
   "source": [
    "pip install beautifulsoup4"
   ]
  },
  {
   "cell_type": "code",
   "execution_count": 2,
   "id": "8d2dd351",
   "metadata": {},
   "outputs": [
    {
     "name": "stdout",
     "output_type": "stream",
     "text": [
      "Requirement already satisfied: lxml in c:\\users\\shabi\\anaconda3\\lib\\site-packages (5.2.1)\n",
      "Note: you may need to restart the kernel to use updated packages.\n"
     ]
    }
   ],
   "source": [
    "pip install lxml"
   ]
  },
  {
   "cell_type": "code",
   "execution_count": 3,
   "id": "9fa241f2",
   "metadata": {},
   "outputs": [],
   "source": [
    "from bs4 import BeautifulSoup"
   ]
  },
  {
   "cell_type": "code",
   "execution_count": 4,
   "id": "312c58ba",
   "metadata": {},
   "outputs": [],
   "source": [
    "with open(\"web.html\",'r') as f:\n",
    "    contents = f.read() #r:read,#w:write,a:append"
   ]
  },
  {
   "cell_type": "code",
   "execution_count": 5,
   "id": "83bfc55e",
   "metadata": {},
   "outputs": [
    {
     "name": "stdout",
     "output_type": "stream",
     "text": [
      "\n",
      "<!DOCTYPE html>\n",
      "<html lang=\"en\">\n",
      "<head>\n",
      "    <meta charset=\"UTF-8\">\n",
      "    <meta name=\"viewport\" content=\"width=device-width, initial-scale=1.0\">\n",
      "    <title>Web Scraping Practice Page</title>\n",
      "</head>\n",
      "<body style=\"font-family: Arial, sans-serif; margin: 40px; background-color: #f5f5f5;\">\n",
      "\n",
      "    <h1 style=\"color: #2c3e50; text-align:center;\">Online Store - Web Scraping Practice</h1>\n",
      "    <p style=\"text-align:center; color: #555;\">A fake e-commerce site for learning data extraction</p>\n",
      "\n",
      "    <hr>\n",
      "\n",
      "    <!-- Product Section -->\n",
      "    <h2 style=\"color:#1abc9c;\">Electronics</h2>\n",
      "    <div class=\"product\" style=\"background-color:white; padding:15px; border-radius:10px; margin-bottom:15px;\">\n",
      "        <h3 class=\"name\" style=\"color:#34495e;\">Smartphone A1</h3>\n",
      "        <p class=\"price\" style=\"color:#e74c3c;\">Price: $499</p>\n",
      "        <p class=\"rating\" style=\"color:#f39c12;\">Rating: 4.5/5</p>\n",
      "        <p class=\"stock\" style=\"color:green;\">In Stock</p>\n",
      "        <a href=\"https://example.com/product/a1\" class=\"link\">View Product</a>\n",
      "    </div>\n",
      "\n",
      "    <div class=\"product\" style=\"background-color:white; padding:15px; border-radius:10px; margin-bottom:15px;\">\n",
      "        <h3 class=\"name\" style=\"color:#34495e;\">Laptop Z5</h3>\n",
      "        <p class=\"price\" style=\"color:#e74c3c;\">Price: $899</p>\n",
      "        <p class=\"rating\" style=\"color:#f39c12;\">Rating: 4.7/5</p>\n",
      "        <p class=\"stock\" style=\"color:red;\">Out of Stock</p>\n",
      "        <a href=\"https://example.com/product/z5\" class=\"link\">View Product</a>\n",
      "    </div>\n",
      "\n",
      "    <!-- Books Section -->\n",
      "    <h2 style=\"color:#1abc9c;\">Books</h2>\n",
      "    <ul style=\"background-color:white; padding:15px; border-radius:10px;\">\n",
      "        <li>\n",
      "            <span class=\"title\" style=\"font-weight:bold;\">Learning Python</span> - \n",
      "            <span class=\"author\">Mark Lutz</span> \n",
      "            <span class=\"price\" style=\"color:#e74c3c;\">($45)</span>\n",
      "        </li>\n",
      "        <li>\n",
      "            <span class=\"title\" style=\"font-weight:bold;\">Data Science from Scratch</span> - \n",
      "            <span class=\"author\">Joel Grus</span> \n",
      "            <span class=\"price\" style=\"color:#e74c3c;\">($39)</span>\n",
      "        </li>\n",
      "        <li>\n",
      "            <span class=\"title\" style=\"font-weight:bold;\">Python for Data Analysis</span> - \n",
      "            <span class=\"author\">Wes McKinney</span> \n",
      "            <span class=\"price\" style=\"color:#e74c3c;\">($50)</span>\n",
      "        </li>\n",
      "    </ul>\n",
      "\n",
      "    <!-- Employee Table -->\n",
      "    <h2 style=\"color:#1abc9c;\">Employee Directory</h2>\n",
      "    <table border=\"1\" cellpadding=\"8\" style=\"border-collapse:collapse; width:100%; background-color:white;\">\n",
      "        <thead style=\"background-color:#2ecc71; color:white;\">\n",
      "            <tr>\n",
      "                <th>Name</th>\n",
      "                <th>Position</th>\n",
      "                <th>Department</th>\n",
      "                <th>Salary ($)</th>\n",
      "            </tr>\n",
      "        </thead>\n",
      "        <tbody>\n",
      "            <tr>\n",
      "                <td>Alice Johnson</td>\n",
      "                <td>Data Analyst</td>\n",
      "                <td>Analytics</td>\n",
      "                <td>65000</td>\n",
      "            </tr>\n",
      "            <tr>\n",
      "                <td>Robert Brown</td>\n",
      "                <td>Web Developer</td>\n",
      "                <td>IT</td>\n",
      "                <td>72000</td>\n",
      "            </tr>\n",
      "            <tr>\n",
      "                <td>Maria Lopez</td>\n",
      "                <td>Project Manager</td>\n",
      "                <td>Operations</td>\n",
      "                <td>85000</td>\n",
      "            </tr>\n",
      "        </tbody>\n",
      "    </table>\n",
      "\n",
      "    <!-- Miscellaneous Section -->\n",
      "    <h2 style=\"color:#1abc9c;\">Recent Blog Posts</h2>\n",
      "    <div class=\"blog\" style=\"background-color:white; padding:15px; border-radius:10px;\">\n",
      "        <h3 class=\"title\">How AI is Changing Data Analytics</h3>\n",
      "        <p class=\"date\" style=\"color:#7f8c8d;\">Published: 2025-10-20</p>\n",
      "        <p class=\"content\">Artificial Intelligence (AI) has become a major part of modern data analytics. From automated reporting to predictive modeling, AI is revolutionizing how analysts work.</p>\n",
      "        <a href=\"https://example.com/blog/ai-data\" class=\"readmore\">Read More</a>\n",
      "    </div>\n",
      "\n",
      "    <div class=\"blog\" style=\"background-color:white; padding:15px; border-radius:10px;\">\n",
      "        <h3 class=\"title\">Top 5 Tools for Data Visualization</h3>\n",
      "        <p class=\"date\" style=\"color:#7f8c8d;\">Published: 2025-09-18</p>\n",
      "        <p class=\"content\">Data visualization tools like Power BI, Tableau, and matplotlib help transform raw data into actionable insights with clarity and efficiency.</p>\n",
      "        <a href=\"https://example.com/blog/visualization-tools\" class=\"readmore\">Read More</a>\n",
      "    </div>\n",
      "\n",
      "    <footer style=\"margin-top:40px; text-align:center; color:#777;\">\n",
      "        <p>&copy; 2025 WebScrape Training. All rights reserved.</p>\n",
      "    </footer>\n",
      "\n",
      "</body>\n",
      "</html>\n",
      "\n"
     ]
    }
   ],
   "source": [
    "print(contents)"
   ]
  },
  {
   "cell_type": "code",
   "execution_count": 6,
   "id": "d85d8625",
   "metadata": {},
   "outputs": [
    {
     "name": "stdout",
     "output_type": "stream",
     "text": [
      "<!DOCTYPE html>\n",
      "<html lang=\"en\">\n",
      " <head>\n",
      "  <meta charset=\"utf-8\"/>\n",
      "  <meta content=\"width=device-width, initial-scale=1.0\" name=\"viewport\"/>\n",
      "  <title>\n",
      "   Web Scraping Practice Page\n",
      "  </title>\n",
      " </head>\n",
      " <body style=\"font-family: Arial, sans-serif; margin: 40px; background-color: #f5f5f5;\">\n",
      "  <h1 style=\"color: #2c3e50; text-align:center;\">\n",
      "   Online Store - Web Scraping Practice\n",
      "  </h1>\n",
      "  <p style=\"text-align:center; color: #555;\">\n",
      "   A fake e-commerce site for learning data extraction\n",
      "  </p>\n",
      "  <hr/>\n",
      "  <!-- Product Section -->\n",
      "  <h2 style=\"color:#1abc9c;\">\n",
      "   Electronics\n",
      "  </h2>\n",
      "  <div class=\"product\" style=\"background-color:white; padding:15px; border-radius:10px; margin-bottom:15px;\">\n",
      "   <h3 class=\"name\" style=\"color:#34495e;\">\n",
      "    Smartphone A1\n",
      "   </h3>\n",
      "   <p class=\"price\" style=\"color:#e74c3c;\">\n",
      "    Price: $499\n",
      "   </p>\n",
      "   <p class=\"rating\" style=\"color:#f39c12;\">\n",
      "    Rating: 4.5/5\n",
      "   </p>\n",
      "   <p class=\"stock\" style=\"color:green;\">\n",
      "    In Stock\n",
      "   </p>\n",
      "   <a class=\"link\" href=\"https://example.com/product/a1\">\n",
      "    View Product\n",
      "   </a>\n",
      "  </div>\n",
      "  <div class=\"product\" style=\"background-color:white; padding:15px; border-radius:10px; margin-bottom:15px;\">\n",
      "   <h3 class=\"name\" style=\"color:#34495e;\">\n",
      "    Laptop Z5\n",
      "   </h3>\n",
      "   <p class=\"price\" style=\"color:#e74c3c;\">\n",
      "    Price: $899\n",
      "   </p>\n",
      "   <p class=\"rating\" style=\"color:#f39c12;\">\n",
      "    Rating: 4.7/5\n",
      "   </p>\n",
      "   <p class=\"stock\" style=\"color:red;\">\n",
      "    Out of Stock\n",
      "   </p>\n",
      "   <a class=\"link\" href=\"https://example.com/product/z5\">\n",
      "    View Product\n",
      "   </a>\n",
      "  </div>\n",
      "  <!-- Books Section -->\n",
      "  <h2 style=\"color:#1abc9c;\">\n",
      "   Books\n",
      "  </h2>\n",
      "  <ul style=\"background-color:white; padding:15px; border-radius:10px;\">\n",
      "   <li>\n",
      "    <span class=\"title\" style=\"font-weight:bold;\">\n",
      "     Learning Python\n",
      "    </span>\n",
      "    -\n",
      "    <span class=\"author\">\n",
      "     Mark Lutz\n",
      "    </span>\n",
      "    <span class=\"price\" style=\"color:#e74c3c;\">\n",
      "     ($45)\n",
      "    </span>\n",
      "   </li>\n",
      "   <li>\n",
      "    <span class=\"title\" style=\"font-weight:bold;\">\n",
      "     Data Science from Scratch\n",
      "    </span>\n",
      "    -\n",
      "    <span class=\"author\">\n",
      "     Joel Grus\n",
      "    </span>\n",
      "    <span class=\"price\" style=\"color:#e74c3c;\">\n",
      "     ($39)\n",
      "    </span>\n",
      "   </li>\n",
      "   <li>\n",
      "    <span class=\"title\" style=\"font-weight:bold;\">\n",
      "     Python for Data Analysis\n",
      "    </span>\n",
      "    -\n",
      "    <span class=\"author\">\n",
      "     Wes McKinney\n",
      "    </span>\n",
      "    <span class=\"price\" style=\"color:#e74c3c;\">\n",
      "     ($50)\n",
      "    </span>\n",
      "   </li>\n",
      "  </ul>\n",
      "  <!-- Employee Table -->\n",
      "  <h2 style=\"color:#1abc9c;\">\n",
      "   Employee Directory\n",
      "  </h2>\n",
      "  <table border=\"1\" cellpadding=\"8\" style=\"border-collapse:collapse; width:100%; background-color:white;\">\n",
      "   <thead style=\"background-color:#2ecc71; color:white;\">\n",
      "    <tr>\n",
      "     <th>\n",
      "      Name\n",
      "     </th>\n",
      "     <th>\n",
      "      Position\n",
      "     </th>\n",
      "     <th>\n",
      "      Department\n",
      "     </th>\n",
      "     <th>\n",
      "      Salary ($)\n",
      "     </th>\n",
      "    </tr>\n",
      "   </thead>\n",
      "   <tbody>\n",
      "    <tr>\n",
      "     <td>\n",
      "      Alice Johnson\n",
      "     </td>\n",
      "     <td>\n",
      "      Data Analyst\n",
      "     </td>\n",
      "     <td>\n",
      "      Analytics\n",
      "     </td>\n",
      "     <td>\n",
      "      65000\n",
      "     </td>\n",
      "    </tr>\n",
      "    <tr>\n",
      "     <td>\n",
      "      Robert Brown\n",
      "     </td>\n",
      "     <td>\n",
      "      Web Developer\n",
      "     </td>\n",
      "     <td>\n",
      "      IT\n",
      "     </td>\n",
      "     <td>\n",
      "      72000\n",
      "     </td>\n",
      "    </tr>\n",
      "    <tr>\n",
      "     <td>\n",
      "      Maria Lopez\n",
      "     </td>\n",
      "     <td>\n",
      "      Project Manager\n",
      "     </td>\n",
      "     <td>\n",
      "      Operations\n",
      "     </td>\n",
      "     <td>\n",
      "      85000\n",
      "     </td>\n",
      "    </tr>\n",
      "   </tbody>\n",
      "  </table>\n",
      "  <!-- Miscellaneous Section -->\n",
      "  <h2 style=\"color:#1abc9c;\">\n",
      "   Recent Blog Posts\n",
      "  </h2>\n",
      "  <div class=\"blog\" style=\"background-color:white; padding:15px; border-radius:10px;\">\n",
      "   <h3 class=\"title\">\n",
      "    How AI is Changing Data Analytics\n",
      "   </h3>\n",
      "   <p class=\"date\" style=\"color:#7f8c8d;\">\n",
      "    Published: 2025-10-20\n",
      "   </p>\n",
      "   <p class=\"content\">\n",
      "    Artificial Intelligence (AI) has become a major part of modern data analytics. From automated reporting to predictive modeling, AI is revolutionizing how analysts work.\n",
      "   </p>\n",
      "   <a class=\"readmore\" href=\"https://example.com/blog/ai-data\">\n",
      "    Read More\n",
      "   </a>\n",
      "  </div>\n",
      "  <div class=\"blog\" style=\"background-color:white; padding:15px; border-radius:10px;\">\n",
      "   <h3 class=\"title\">\n",
      "    Top 5 Tools for Data Visualization\n",
      "   </h3>\n",
      "   <p class=\"date\" style=\"color:#7f8c8d;\">\n",
      "    Published: 2025-09-18\n",
      "   </p>\n",
      "   <p class=\"content\">\n",
      "    Data visualization tools like Power BI, Tableau, and matplotlib help transform raw data into actionable insights with clarity and efficiency.\n",
      "   </p>\n",
      "   <a class=\"readmore\" href=\"https://example.com/blog/visualization-tools\">\n",
      "    Read More\n",
      "   </a>\n",
      "  </div>\n",
      "  <footer style=\"margin-top:40px; text-align:center; color:#777;\">\n",
      "   <p>\n",
      "    © 2025 WebScrape Training. All rights reserved.\n",
      "   </p>\n",
      "  </footer>\n",
      " </body>\n",
      "</html>\n",
      "\n"
     ]
    }
   ],
   "source": [
    "soup=BeautifulSoup(contents, 'lxml') #string to lxml parser\n",
    "print(soup.prettify())"
   ]
  },
  {
   "cell_type": "code",
   "execution_count": 7,
   "id": "0279f706",
   "metadata": {},
   "outputs": [
    {
     "name": "stdout",
     "output_type": "stream",
     "text": [
      "[<h3 class=\"name\" style=\"color:#34495e;\">Smartphone A1</h3>, <h3 class=\"name\" style=\"color:#34495e;\">Laptop Z5</h3>, <h3 class=\"title\">How AI is Changing Data Analytics</h3>, <h3 class=\"title\">Top 5 Tools for Data Visualization</h3>]\n"
     ]
    }
   ],
   "source": [
    "h3_tags=soup.find_all('h3') #find all h3 tags #find will only find first one, find_all finds all\n",
    "print(h3_tags)"
   ]
  },
  {
   "cell_type": "code",
   "execution_count": 8,
   "id": "bba5bcdd",
   "metadata": {},
   "outputs": [
    {
     "name": "stdout",
     "output_type": "stream",
     "text": [
      "Smartphone A1\n",
      "Laptop Z5\n",
      "How AI is Changing Data Analytics\n",
      "Top 5 Tools for Data Visualization\n"
     ]
    }
   ],
   "source": [
    "for tag in h3_tags:\n",
    "    print(tag.text)"
   ]
  },
  {
   "cell_type": "code",
   "execution_count": 10,
   "id": "f64c9131",
   "metadata": {},
   "outputs": [
    {
     "name": "stdout",
     "output_type": "stream",
     "text": [
      "View Product\n",
      "View Product\n"
     ]
    }
   ],
   "source": [
    "prod=soup.find_all(class_='link') #find all with class 'link'\n",
    "for p in prod:\n",
    "    print(p.text)"
   ]
  },
  {
   "cell_type": "code",
   "execution_count": 11,
   "id": "b0d9b6c8",
   "metadata": {},
   "outputs": [
    {
     "name": "stdout",
     "output_type": "stream",
     "text": [
      "Read More\n",
      "Read More\n"
     ]
    }
   ],
   "source": [
    "rmore=soup.find_all(class_='readmore') #find all with class 'readmore'\n",
    "for r in rmore:\n",
    "    print(r.text)"
   ]
  },
  {
   "cell_type": "code",
   "execution_count": 12,
   "id": "e9ae5166",
   "metadata": {},
   "outputs": [
    {
     "name": "stdout",
     "output_type": "stream",
     "text": [
      "['Name', 'Position', 'Department', 'Salary ($)']\n"
     ]
    }
   ],
   "source": [
    "table=soup.find('table') #find all with class 'table'\n",
    "headers=[th.text.strip() for th in table.find_all('th')] \n",
    "print(headers)\n",
    "\n",
    "\n"
   ]
  },
  {
   "cell_type": "code",
   "execution_count": 13,
   "id": "3238042b",
   "metadata": {},
   "outputs": [
    {
     "name": "stdout",
     "output_type": "stream",
     "text": [
      "['Alice Johnson', 'Data Analyst', 'Analytics', '65000']\n",
      "['Robert Brown', 'Web Developer', 'IT', '72000']\n",
      "['Maria Lopez', 'Project Manager', 'Operations', '85000']\n"
     ]
    }
   ],
   "source": [
    "rows=table.find('tbody').find_all('tr')\n",
    "for row in rows:\n",
    "    data=[td.text.strip() for td in row.find_all('td')]\n",
    "    print(data) "
   ]
  },
  {
   "cell_type": "code",
   "execution_count": 14,
   "id": "a973925d",
   "metadata": {},
   "outputs": [],
   "source": [
    "import pandas as pd"
   ]
  },
  {
   "cell_type": "code",
   "execution_count": 22,
   "id": "655929a6",
   "metadata": {},
   "outputs": [
    {
     "name": "stdout",
     "output_type": "stream",
     "text": [
      "            Name         Position  Department Salary ($)\n",
      "0  Alice Johnson     Data Analyst   Analytics      65000\n",
      "1   Robert Brown    Web Developer          IT      72000\n",
      "2    Maria Lopez  Project Manager  Operations      85000\n"
     ]
    }
   ],
   "source": [
    "data=[]\n",
    "for row in rows:\n",
    "    data.append([td.text.strip() for td in row.find_all('td')])\n",
    "df=pd.DataFrame(data, columns=headers)\n",
    "print(df)"
   ]
  },
  {
   "cell_type": "code",
   "execution_count": 20,
   "id": "a10268e6",
   "metadata": {},
   "outputs": [
    {
     "name": "stdout",
     "output_type": "stream",
     "text": [
      "\n",
      "How AI is Changing Data Analytics\n",
      "Published: 2025-10-20\n",
      "Artificial Intelligence (AI) has become a major part of modern data analytics. From automated reporting to predictive modeling, AI is revolutionizing how analysts work.\n",
      "Read More\n",
      "\n"
     ]
    }
   ],
   "source": [
    "#more filtering using soup\n",
    "s=BeautifulSoup(contents, 'lxml')\n",
    "recent=s.find('div', class_='blog') #find div with id recent-posts\n",
    "print(recent.text)"
   ]
  },
  {
   "cell_type": "code",
   "execution_count": 28,
   "id": "3d7cc02e",
   "metadata": {},
   "outputs": [
    {
     "data": {
      "text/html": [
       "<div>\n",
       "<style scoped>\n",
       "    .dataframe tbody tr th:only-of-type {\n",
       "        vertical-align: middle;\n",
       "    }\n",
       "\n",
       "    .dataframe tbody tr th {\n",
       "        vertical-align: top;\n",
       "    }\n",
       "\n",
       "    .dataframe thead th {\n",
       "        text-align: right;\n",
       "    }\n",
       "</style>\n",
       "<table border=\"1\" class=\"dataframe\">\n",
       "  <thead>\n",
       "    <tr style=\"text-align: right;\">\n",
       "      <th></th>\n",
       "      <th>Title</th>\n",
       "      <th>Date</th>\n",
       "      <th>Text</th>\n",
       "      <th>Link</th>\n",
       "    </tr>\n",
       "  </thead>\n",
       "  <tbody>\n",
       "    <tr>\n",
       "      <th>0</th>\n",
       "      <td>How AI is Changing Data Analytics</td>\n",
       "      <td>Published: 2025-10-20</td>\n",
       "      <td>Artificial Intelligence (AI) has become a majo...</td>\n",
       "      <td>https://example.com/blog/ai-data</td>\n",
       "    </tr>\n",
       "    <tr>\n",
       "      <th>1</th>\n",
       "      <td>Top 5 Tools for Data Visualization</td>\n",
       "      <td>Published: 2025-09-18</td>\n",
       "      <td>Data visualization tools like Power BI, Tablea...</td>\n",
       "      <td>https://example.com/blog/visualization-tools</td>\n",
       "    </tr>\n",
       "  </tbody>\n",
       "</table>\n",
       "</div>"
      ],
      "text/plain": [
       "                                Title                   Date  \\\n",
       "0   How AI is Changing Data Analytics  Published: 2025-10-20   \n",
       "1  Top 5 Tools for Data Visualization  Published: 2025-09-18   \n",
       "\n",
       "                                                Text  \\\n",
       "0  Artificial Intelligence (AI) has become a majo...   \n",
       "1  Data visualization tools like Power BI, Tablea...   \n",
       "\n",
       "                                           Link  \n",
       "0              https://example.com/blog/ai-data  \n",
       "1  https://example.com/blog/visualization-tools  "
      ]
     },
     "execution_count": 28,
     "metadata": {},
     "output_type": "execute_result"
    }
   ],
   "source": [
    "recent_blogs=s.find_all('div', class_='blog')\n",
    "recent_titles=['Title','Date','Text','Link']\n",
    "blog_data=[]\n",
    "for blog in recent_blogs:\n",
    "    title=blog.find('h3', class_='title').text.strip()\n",
    "    date=blog.find('p', class_='date').text.strip()\n",
    "    text=blog.find('p', class_='content').text.strip()\n",
    "    link=blog.find('a', class_='readmore')['href']\n",
    "    blog_data.append([title, date, text,link])\n",
    "\n",
    "df_blogs=pd.DataFrame(blog_data, columns=recent_titles)\n",
    "df_blogs"
   ]
  },
  {
   "cell_type": "code",
   "execution_count": 45,
   "id": "59d67999",
   "metadata": {},
   "outputs": [
    {
     "name": "stdout",
     "output_type": "stream",
     "text": [
      "Alice Johnson\n",
      "Robert Brown\n",
      "Maria Lopez\n"
     ]
    }
   ],
   "source": [
    "for row in rows:\n",
    "    print(row.td.text.strip())"
   ]
  },
  {
   "cell_type": "code",
   "execution_count": 50,
   "id": "b46998de",
   "metadata": {},
   "outputs": [
    {
     "name": "stdout",
     "output_type": "stream",
     "text": [
      "How AI is Changing Data Analytics Published: 2025-10-20 Artificial Intelligence (AI) has become a major part of modern data analytics. From automated reporting to predictive modeling, AI is revolutionizing how analysts work. https://example.com/blog/ai-data\n",
      "Top 5 Tools for Data Visualization Published: 2025-09-18 Data visualization tools like Power BI, Tableau, and matplotlib help transform raw data into actionable insights with clarity and efficiency. https://example.com/blog/visualization-tools\n"
     ]
    }
   ],
   "source": [
    "for blog in recent_blogs:\n",
    "    title=blog.h3.text.strip()\n",
    "    date=blog.find_all('p')[0].text.strip()\n",
    "    content=blog.find_all('p')[1].text.strip()\n",
    "    link=blog.a['href']\n",
    "    print(title, date, content, link)"
   ]
  },
  {
   "cell_type": "code",
   "execution_count": null,
   "id": "ab95d7a1",
   "metadata": {},
   "outputs": [],
   "source": []
  }
 ],
 "metadata": {
  "kernelspec": {
   "display_name": "base",
   "language": "python",
   "name": "python3"
  },
  "language_info": {
   "codemirror_mode": {
    "name": "ipython",
    "version": 3
   },
   "file_extension": ".py",
   "mimetype": "text/x-python",
   "name": "python",
   "nbconvert_exporter": "python",
   "pygments_lexer": "ipython3",
   "version": "3.12.7"
  }
 },
 "nbformat": 4,
 "nbformat_minor": 5
}
